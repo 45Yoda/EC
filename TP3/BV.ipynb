{
 "cells": [
  {
   "cell_type": "code",
   "execution_count": null,
   "metadata": {},
   "outputs": [],
   "source": [
    "class HiddenNumber:\n",
    "    \n",
    "    def __init__(self,p):\n",
    "        #gerar o segredo\n",
    "        self.secret = ZZ.random_element(p)\n",
    "        print 'The Secret is: '; print self.secret\n",
    "    \n",
    "    '''\n",
    "    Aproximação dos k bits mais significativos do seu \n",
    "    argumento módulo p\n",
    "    '''\n",
    "    def msb(self,k,p,xi):\n",
    "        val = ZZ(Mod(xi*self.secret,p))\n",
    "        bits = val.digits(2)\n",
    "        bits.reverse()\n",
    "        final = ''\n",
    "        if len(bits) < k:\n",
    "            final = ''.join(str(e) for e in bits)\n",
    "        else :\n",
    "            for i in range(0,k):\n",
    "                final += str(bits[i])\n",
    "        return final\n",
    "\n",
    "    def compare(self,calc):\n",
    "        if calc == self.secret:\n",
    "            return True\n",
    "        else:\n",
    "            return False\n",
    "    \n"
   ]
  },
  {
   "cell_type": "code",
   "execution_count": null,
   "metadata": {},
   "outputs": [],
   "source": [
    "# l inteiros positivos no intervalo {0,p-1}\n",
    "def generate_xvector(l,p):\n",
    "    x = []\n",
    "    for i in range(0,l):\n",
    "        x.append(ZZ.random_element(p))\n",
    "    return x\n",
    "\n",
    "'''\n",
    "xv -> x vector\n",
    "k -> número > 0\n",
    "p -> primo\n",
    "\n",
    "vetor de l inteiros positivos que verificarem as igualdades\n",
    "ui = msb(s*xi)\n",
    "'''\n",
    "def generate_uvector(xv,k,p,hnp):\n",
    "    u = []\n",
    "    for xi in xv:\n",
    "        ui = hnp.msb(k,p,xi)\n",
    "        #binario para decimal\n",
    "        ui = ZZ(int(ui,2))\n",
    "        u.append(ui)\n",
    "    return u\n",
    "    \n"
   ]
  },
  {
   "cell_type": "code",
   "execution_count": null,
   "metadata": {
    "scrolled": true
   },
   "outputs": [],
   "source": [
    "import sage.modules.free_module_integer as fmi\n",
    "import numpy as np\n",
    "\n",
    "class BV:\n",
    "    \n",
    "    def __init__(self,uv,xv,p,k,l):\n",
    "        \n",
    "        #gerar lambda, matriz L, target T e reticulado\n",
    "        self.comp_lambda = 2^(k+1)\n",
    "        self.L = self.comp_lambda * p * matrix.identity(l)\n",
    "        self.L = self.L.transpose()\n",
    "        self.L = self.L.insert_row(l,zero_vector(l))\n",
    "        self.L = self.L.transpose()\n",
    "        x = [self.comp_lambda * i for i in xv]\n",
    "        x.append(1)\n",
    "        self.L = self.L.insert_row(l,x)\n",
    "        \n",
    "        #gerar matriz target\n",
    "        self.target = [self.comp_lambda * i for i in uv]\n",
    "        self.target.append(0)\n",
    "        self.target = matrix(self.target)\n",
    "        self.retic = fmi.IntegerLattice(self.L)\n",
    "    \n",
    "    def CVP_resolve(self,x,p,l):\n",
    "        L = matrix(self.retic.reduced_basis)\n",
    "        t = matrix(1,l+1,list(-self.target))\n",
    "        zero = matrix(l+1,1,[0]*(l+1))\n",
    "        M = matrix(1,1,[p**2])\n",
    "        L1 = block_matrix(2,2,[[L,zero],[t,M]])\n",
    "        #base reduzida do reticulado de base L1\n",
    "        Lred = fmi.IntegerLattice(L1).reduced_basis\n",
    "        err1 = np.array(Lred[l+1][:-1])\n",
    "        y1 = err1 + self.target\n",
    "        # última componente do vetor resultante\n",
    "        return y1[0][l]\n",
    "        "
   ]
  },
  {
   "cell_type": "code",
   "execution_count": null,
   "metadata": {},
   "outputs": [],
   "source": [
    "l = 2^7\n",
    "k = 64\n",
    "p = 2^64\n",
    "xv = generate_xvector(l,p)\n",
    "hnp = HiddenNumber(p)\n",
    "uv = generate_uvector(xv,k,p,hnp)\n",
    "bv = BV(uv,xv,p,k,l)\n",
    "calc = bv.CVP_resolve(xv,p,l)\n",
    "if hnp.compare(calc):\n",
    "    print 'True'\n",
    "else:\n",
    "    print 'False'"
   ]
  },
  {
   "cell_type": "code",
   "execution_count": null,
   "metadata": {},
   "outputs": [],
   "source": []
  }
 ],
 "metadata": {
  "kernelspec": {
   "display_name": "SageMath 8.6",
   "language": "",
   "name": "sagemath"
  },
  "language_info": {
   "codemirror_mode": {
    "name": "ipython",
    "version": 2
   },
   "file_extension": ".py",
   "mimetype": "text/x-python",
   "name": "python",
   "nbconvert_exporter": "python",
   "pygments_lexer": "ipython2",
   "version": "2.7.16"
  }
 },
 "nbformat": 4,
 "nbformat_minor": 2
}
