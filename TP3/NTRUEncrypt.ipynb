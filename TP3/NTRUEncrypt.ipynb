{
 "cells": [
  {
   "cell_type": "markdown",
   "metadata": {},
   "source": [
    "\n",
    "## NTRU-Encrypt"
   ]
  },
  {
   "cell_type": "markdown",
   "metadata": {},
   "source": [
    "## Parâmetros\n",
    "Vamos usar\n",
    "+ $d \\ge 6$ --\n",
    "  parâmetro de segurança\n",
    "+ $N$ --\n",
    "  um primo maior ou igual  2^d\n",
    "  \n",
    "+ $p$ --\n",
    "  um pequeno primo  3,  5 ou  7\n",
    " \n",
    "+ $q$ --\n",
    "  um primo da ordem de grandeza de  $p*N$\n",
    " \n",
    "\n",
    " "
   ]
  },
  {
   "cell_type": "code",
   "execution_count": 125,
   "metadata": {},
   "outputs": [
    {
     "name": "stdout",
     "output_type": "stream",
     "text": [
      "10 3109 3 1031\n"
     ]
    }
   ],
   "source": [
    "import hashlib\n",
    "import random\n",
    "\n",
    "d = 10\n",
    "\n",
    "N = next_prime(1 << d)\n",
    "p = 3\n",
    "q = next_prime(p*N)\n",
    "\n",
    "print d, q, p, N"
   ]
  },
  {
   "cell_type": "markdown",
   "metadata": {},
   "source": [
    "### anéis de polinómios"
   ]
  },
  {
   "cell_type": "code",
   "execution_count": 126,
   "metadata": {},
   "outputs": [],
   "source": [
    "Z.<x>  = ZZ[]        # polinómios de coeficientes inteiros\n",
    "Q.<x>  = PolynomialRing(GF(q),name='x').quotient(x^N-1)"
   ]
  },
  {
   "cell_type": "markdown",
   "metadata": {},
   "source": [
    "### geração aleatória, arredondamento módulo $q$ e compração módulo $p$"
   ]
  },
  {
   "cell_type": "code",
   "execution_count": 127,
   "metadata": {},
   "outputs": [],
   "source": [
    "def vec(n):\n",
    "    return  [choice([-1,0,1]) for k in range(n)]\n",
    "\n",
    "def seeded(rseed):\n",
    "    random.seed(rseed)\n",
    "    return [random.choice([-1,0,1]) for k in range(N)]\n",
    "\n",
    "# arredondamento módulo 'q'\n",
    "def qrnd(f):    # argumento em 'Q'\n",
    "    qq = (q-1)//2 ; ll = map(lift,f.list())\n",
    "    return [n if n <= qq else n - q  for n in ll]\n",
    "\n",
    "# arredondamento módulo 'p'\n",
    "def prnd(l):\n",
    "    pp = (p-1)//2\n",
    "    rr = lambda x: x if x <= pp else x - p        \n",
    "    return [rr(n%p) if n>=0 else -rr((-n)%p) for n in l]\n",
    "\n",
    "# comparação módulo 'p'\n",
    "#def equalp(x,y,p):\n",
    "#    return  all([(a-b)%p == 0  for (a,b) in zip(x,y)] )\n",
    "\n",
    "def hash_msg(m):\n",
    "    string_m = ''.join([str(x) for x in m])\n",
    "    hashed_mess = hashlib.sha512(string_m)\n",
    "    return hashed_mess"
   ]
  },
  {
   "cell_type": "markdown",
   "metadata": {},
   "source": [
    "### classe NTRU"
   ]
  },
  {
   "cell_type": "code",
   "execution_count": 161,
   "metadata": {},
   "outputs": [],
   "source": [
    "class NTRU(object):\n",
    "    \n",
    "    #KeyGen\n",
    "    def __init__(self):\n",
    "        # calcular um 'f' invertível\n",
    "        f = Q(0)\n",
    "        while not f.is_unit():\n",
    "            F = Q(vec(N)); f = 1 + p*F\n",
    "        # gerar as chaves\n",
    "        G = Q(vec(N)) ; g = p*G\n",
    "        self.f = f\n",
    "        self.h = f^(-1) * g\n",
    "    \n",
    "    def padding(msg):\n",
    "        print(msg)\n",
    "        msg = ''.join(\"{0:08b}\".format(x) for x in msg)\n",
    "        print(msg)\n",
    "        messlen = len(msg)/8\n",
    "        print(messlen)\n",
    "        \n",
    "        if messlen >= (N-173):\n",
    "            print(\"Message is too large\")\n",
    "            return;\n",
    "        if messlen <= 0:\n",
    "            print(\"Message length is invalid\")\n",
    "            return;\n",
    "            \n",
    "            \n",
    "    \n",
    "        messlen = \"{0:06b}\".format(int(messlen))\n",
    "        print(messlen)\n",
    "        messlen = [int(d) for d in messlen[:6]];\n",
    "        print(messlen)\n",
    "        \n",
    "        msg = list(msg)\n",
    "        \n",
    "        m = msg + vec(167) + messlen\n",
    "    \n",
    "        return m\n",
    "        \n",
    "        \n",
    "    def encrypt(self,m):\n",
    "        #pad\n",
    "        m = padding(m)\n",
    "        #hash message with pub_key\n",
    "        rseed = str(hash_msg(m)) + str(hash_msg(self.h))\n",
    "        #Instantiate Sampler with T and tseed\n",
    "        r = seeded(rseed)\n",
    "        r = Q(r)\n",
    "        t = r * self.h\n",
    "        tseed=  str(hash_msg(t))\n",
    "        #Instantiate Sampler with T and tseed\n",
    "        mask = seeded(tseed)\n",
    "        mask = Q(mask)\n",
    "        m = ''.join(str(x) for x in m)\n",
    "        ml = prnd(qrnd(Q(m) - mask))\n",
    "        c = t + ml\n",
    "        \n",
    "        return c\n",
    "\n",
    "    def decrypt(self,e):\n",
    "        ml = prnd(qrnd(self.f + e))\n",
    "        t = e - Q(ml)\n",
    "        tseed = str(hash_msg(t))\n",
    "        #Instantiate sampler with T and tseed\n",
    "        mask = seeded(tseed)\n",
    "        mask = Q(mask)\n",
    "        m = prnd(ml + mask)\n",
    "        rseed = str(hash_msg(m)) + str(hash_msg(self.h))\n",
    "        #Instantiate sampler with T and rseed\n",
    "        r = seeded(rseed)\n",
    "        r = Q(r)\n",
    "        #msg,mlen = extract(m) ?\n",
    "        \n",
    "        '''\n",
    "        if p * self.h * r == t:\n",
    "            result = (msg,mlen)\n",
    "            return result\n",
    "        else:\n",
    "            return -1\n",
    "        '''\n",
    "        \n",
    "        #a = e*self.f\n",
    "       # return prnd(qrnd(a))\n"
   ]
  },
  {
   "cell_type": "markdown",
   "metadata": {},
   "source": [
    "### Teste"
   ]
  },
  {
   "cell_type": "code",
   "execution_count": null,
   "metadata": {},
   "outputs": [],
   "source": []
  },
  {
   "cell_type": "code",
   "execution_count": 162,
   "metadata": {
    "scrolled": true
   },
   "outputs": [
    {
     "name": "stdout",
     "output_type": "stream",
     "text": [
      "[1, -1, 1, 0, 1, 0, 0, -1, 1, -1]\n",
      "00000001-00000010000000100000000000000010000000000000000-000000100000001-0000001\n",
      "10\n",
      "001010\n",
      "[0, 0, 1, 0, 1, 0]\n"
     ]
    },
    {
     "name": "stderr",
     "output_type": "stream",
     "text": [
      "/usr/lib/python2.7/dist-packages/sage/misc/sage_eval.py:203: DeprecationWarning: use 0o as octal prefix instead of 0\n",
      "If you do not want this number to be interpreted as octal, remove the leading zeros.\n",
      "See http://trac.sagemath.org/17413 for details.\n",
      "  return eval(source, sage.all.__dict__, locals)\n"
     ]
    },
    {
     "ename": "TypeError",
     "evalue": "unsupported operand type(s) for +: 'PolynomialQuotientRing_generic_with_category.element_class' and 'list'",
     "output_type": "error",
     "traceback": [
      "\u001b[0;31m---------------------------------------------------------------------------\u001b[0m",
      "\u001b[0;31mTypeError\u001b[0m                                 Traceback (most recent call last)",
      "\u001b[0;32m<ipython-input-162-e4b00e3e07d0>\u001b[0m in \u001b[0;36m<module>\u001b[0;34m()\u001b[0m\n\u001b[1;32m      1\u001b[0m \u001b[0mm\u001b[0m \u001b[0;34m=\u001b[0m \u001b[0mvec\u001b[0m\u001b[0;34m(\u001b[0m\u001b[0mInteger\u001b[0m\u001b[0;34m(\u001b[0m\u001b[0;36m10\u001b[0m\u001b[0;34m)\u001b[0m\u001b[0;34m)\u001b[0m\u001b[0;34m\u001b[0m\u001b[0m\n\u001b[1;32m      2\u001b[0m \u001b[0mK\u001b[0m \u001b[0;34m=\u001b[0m \u001b[0mNTRU\u001b[0m\u001b[0;34m(\u001b[0m\u001b[0;34m)\u001b[0m\u001b[0;34m\u001b[0m\u001b[0m\n\u001b[0;32m----> 3\u001b[0;31m \u001b[0mc\u001b[0m \u001b[0;34m=\u001b[0m \u001b[0mK\u001b[0m\u001b[0;34m.\u001b[0m\u001b[0mencrypt\u001b[0m\u001b[0;34m(\u001b[0m\u001b[0mm\u001b[0m\u001b[0;34m)\u001b[0m\u001b[0;34m\u001b[0m\u001b[0m\n\u001b[0m\u001b[1;32m      4\u001b[0m \u001b[0md\u001b[0m \u001b[0;34m=\u001b[0m \u001b[0mK\u001b[0m\u001b[0;34m.\u001b[0m\u001b[0mdecrypt\u001b[0m\u001b[0;34m(\u001b[0m\u001b[0mc\u001b[0m\u001b[0;34m)\u001b[0m\u001b[0;34m\u001b[0m\u001b[0m\n",
      "\u001b[0;32m<ipython-input-161-45c46a3c5d79>\u001b[0m in \u001b[0;36mencrypt\u001b[0;34m(self, m)\u001b[0m\n\u001b[1;32m     55\u001b[0m         \u001b[0mm\u001b[0m \u001b[0;34m=\u001b[0m \u001b[0;34m''\u001b[0m\u001b[0;34m.\u001b[0m\u001b[0mjoin\u001b[0m\u001b[0;34m(\u001b[0m\u001b[0mstr\u001b[0m\u001b[0;34m(\u001b[0m\u001b[0mx\u001b[0m\u001b[0;34m)\u001b[0m \u001b[0;32mfor\u001b[0m \u001b[0mx\u001b[0m \u001b[0;32min\u001b[0m \u001b[0mm\u001b[0m\u001b[0;34m)\u001b[0m\u001b[0;34m\u001b[0m\u001b[0m\n\u001b[1;32m     56\u001b[0m         \u001b[0mml\u001b[0m \u001b[0;34m=\u001b[0m \u001b[0mprnd\u001b[0m\u001b[0;34m(\u001b[0m\u001b[0mqrnd\u001b[0m\u001b[0;34m(\u001b[0m\u001b[0mQ\u001b[0m\u001b[0;34m(\u001b[0m\u001b[0mm\u001b[0m\u001b[0;34m)\u001b[0m \u001b[0;34m-\u001b[0m \u001b[0mmask\u001b[0m\u001b[0;34m)\u001b[0m\u001b[0;34m)\u001b[0m\u001b[0;34m\u001b[0m\u001b[0m\n\u001b[0;32m---> 57\u001b[0;31m         \u001b[0mc\u001b[0m \u001b[0;34m=\u001b[0m \u001b[0mt\u001b[0m \u001b[0;34m+\u001b[0m \u001b[0mml\u001b[0m\u001b[0;34m\u001b[0m\u001b[0m\n\u001b[0m\u001b[1;32m     58\u001b[0m \u001b[0;34m\u001b[0m\u001b[0m\n\u001b[1;32m     59\u001b[0m         \u001b[0;32mreturn\u001b[0m \u001b[0mc\u001b[0m\u001b[0;34m\u001b[0m\u001b[0m\n",
      "\u001b[0;31mTypeError\u001b[0m: unsupported operand type(s) for +: 'PolynomialQuotientRing_generic_with_category.element_class' and 'list'"
     ]
    }
   ],
   "source": [
    "m = vec(10)\n",
    "K = NTRU()\n",
    "c = K.encrypt(m)\n",
    "d = K.decrypt(c)"
   ]
  },
  {
   "cell_type": "code",
   "execution_count": null,
   "metadata": {},
   "outputs": [],
   "source": []
  },
  {
   "cell_type": "code",
   "execution_count": null,
   "metadata": {
    "collapsed": true
   },
   "outputs": [],
   "source": []
  }
 ],
 "metadata": {
  "celltoolbar": "Raw Cell Format",
  "kernelspec": {
   "display_name": "SageMath 8.6",
   "language": "",
   "name": "sagemath"
  },
  "language_info": {
   "codemirror_mode": {
    "name": "ipython",
    "version": 2
   },
   "file_extension": ".py",
   "mimetype": "text/x-python",
   "name": "python",
   "nbconvert_exporter": "python",
   "pygments_lexer": "ipython2",
   "version": "2.7.16"
  }
 },
 "nbformat": 4,
 "nbformat_minor": 2
}
