{
 "cells": [
  {
   "cell_type": "markdown",
   "metadata": {},
   "source": [
    "\n",
    "## NTRU-Encrypt"
   ]
  },
  {
   "cell_type": "markdown",
   "metadata": {},
   "source": [
    "## Parâmetros\n",
    "Vamos usar\n",
    "+ $d \\ge 6$ --\n",
    "  parâmetro de segurança\n",
    "+ $N$ --\n",
    "  um primo maior ou igual  2^d\n",
    "  \n",
    "+ $p$ --\n",
    "  um pequeno primo  3,  5 ou  7\n",
    " \n",
    "+ $q$ --\n",
    "  um primo da ordem de grandeza de  $p*N$\n",
    " \n",
    "\n",
    " "
   ]
  },
  {
   "cell_type": "code",
   "execution_count": 50,
   "metadata": {},
   "outputs": [
    {
     "name": "stdout",
     "output_type": "stream",
     "text": [
      "10 3109 3 1031\n"
     ]
    }
   ],
   "source": [
    "import hashlib\n",
    "\n",
    "d = 10\n",
    "\n",
    "N = next_prime(1 << d)\n",
    "p = 3\n",
    "q = next_prime(p*N)\n",
    "\n",
    "print d, q, p, N"
   ]
  },
  {
   "cell_type": "markdown",
   "metadata": {},
   "source": [
    "### anéis de polinómios"
   ]
  },
  {
   "cell_type": "code",
   "execution_count": 5,
   "metadata": {},
   "outputs": [],
   "source": [
    "Z.<x>  = ZZ[]        # polinómios de coeficientes inteiros\n",
    "Q.<x>  = PolynomialRing(GF(q),name='x').quotient(x^N-1)"
   ]
  },
  {
   "cell_type": "markdown",
   "metadata": {},
   "source": [
    "### geração aleatória, arredondamento módulo $q$ e compração módulo $p$"
   ]
  },
  {
   "cell_type": "code",
   "execution_count": 11,
   "metadata": {},
   "outputs": [],
   "source": [
    "def vec(n):\n",
    "    return  [choice([-1,0,1]) for k in range(n)]\n",
    "\n",
    "# arredondamento módulo 'q'\n",
    "def qrnd(f):    # argumento em 'Q'\n",
    "    qq = (q-1)//2 ; ll = map(lift,f.list())\n",
    "    return [n if n <= qq else n - q  for n in ll]\n",
    "\n",
    "# arredondamento módulo 'p'\n",
    "def prnd(l):\n",
    "    pp = (p-1)//2\n",
    "    rr = lambda x: x if x <= pp else x - p        \n",
    "    return [rr(n%p) if n>=0 else -rr((-n)%p) for n in l]\n",
    "\n",
    "# comparação módulo 'p'\n",
    "#def equalp(x,y,p):\n",
    "#    return  all([(a-b)%p == 0  for (a,b) in zip(x,y)] )\n",
    "\n",
    "def hashmsg(m,h):\n",
    "    m = ''.join([str(x) for x in m])\n",
    "    rseed = hashlib.sha512(hm)\n",
    "    return rseed"
   ]
  },
  {
   "cell_type": "markdown",
   "metadata": {},
   "source": [
    "### classe NTRU"
   ]
  },
  {
   "cell_type": "code",
   "execution_count": 35,
   "metadata": {},
   "outputs": [],
   "source": [
    "class NTRU(object):\n",
    "    \n",
    "    #KeyGen\n",
    "    def __init__(self):\n",
    "        # calcular um 'f' invertível\n",
    "        f = Q(0)\n",
    "        while not f.is_unit():\n",
    "            F = Q(vec(N)); f = 1 + p*F\n",
    "        # gerar as chaves\n",
    "        G = Q(vec(N)) ; g = p*G\n",
    "        self.f = f\n",
    "        self.h = f^(-1) * g\n",
    "        \n",
    "    \n",
    "    def padding(self,m):\n",
    "        if(len(m) >= (N-173)):\n",
    "            print(\"Message is too short \")\n",
    "        elif(len(m) <= 0):\n",
    "            print(\"Message length is invalid\")\n",
    "        else:\n",
    "            bit = bin(hello)\n",
    "            print(bit)\n",
    "        \n",
    "        \n",
    "    def encrypt(self,m):\n",
    "        m = padding(m)\n",
    "        r = Q(vec(N))\n",
    "        t = r*self\n",
    "        mask = Q(vec())\n",
    "        #mess = (pad - mask) mod p\n",
    "        #c = t + mess\n",
    "        \n",
    "        return r*self.h + Q(m)\n",
    "        #return c\n",
    "\n",
    "    def decrypt(self,e):\n",
    "        a = e*self.f\n",
    "        return prnd(qrnd(a))\n"
   ]
  },
  {
   "cell_type": "code",
   "execution_count": 49,
   "metadata": {},
   "outputs": [
    {
     "name": "stdout",
     "output_type": "stream",
     "text": [
      "[0, 1, -1, -1]\n",
      "0000000000000001-0000001-0000001\n",
      "4\n",
      "000100\n",
      "[0, 0, 0, 1, 0, 0]\n"
     ]
    }
   ],
   "source": [
    "def padding(msg):\n",
    "        print(msg)\n",
    "        msg = ''.join(\"{0:08b}\".format(x) for x in msg)\n",
    "        print(msg)\n",
    "        messlen = len(msg)/8\n",
    "        print(messlen)\n",
    "        \n",
    "        if messlen >= (N-173):\n",
    "            print(\"Message is too large\")\n",
    "            return;\n",
    "        if messlen <= 0:\n",
    "            print(\"Message length is invalid\")\n",
    "            return;\n",
    "            \n",
    "        r = N - (167 + 6 + messlen*8)\n",
    "        lr = list(0 for i in (0..r-1))\n",
    "    \n",
    "        messlen = \"{0:06b}\".format(int(messlen))\n",
    "        print(messlen)\n",
    "        messlen = [int(d) for d in messlen[:6]];\n",
    "        print(messlen)\n",
    "        \n",
    "        msg = msg.replace('-', '1')\n",
    "        msg = list(msg)\n",
    "        \n",
    "        m = msg + lr + vec(167) + messlen\n",
    "    \n",
    "        return m\n",
    "    \n",
    "m = vec(4)\n",
    "cena = padding(m)"
   ]
  },
  {
   "cell_type": "markdown",
   "metadata": {},
   "source": [
    "### Teste"
   ]
  },
  {
   "cell_type": "code",
   "execution_count": 3,
   "metadata": {},
   "outputs": [
    {
     "ename": "NameError",
     "evalue": "global name 'Q' is not defined",
     "output_type": "error",
     "traceback": [
      "\u001b[0;31m---------------------------------------------------------------------------\u001b[0m",
      "\u001b[0;31mNameError\u001b[0m                                 Traceback (most recent call last)",
      "\u001b[0;32m<ipython-input-3-5a35bfc3e3a3>\u001b[0m in \u001b[0;36m<module>\u001b[0;34m()\u001b[0m\n\u001b[1;32m      1\u001b[0m \u001b[0;31m# Uma instância NTRU\u001b[0m\u001b[0;34m\u001b[0m\u001b[0;34m\u001b[0m\u001b[0m\n\u001b[0;32m----> 2\u001b[0;31m \u001b[0mK\u001b[0m \u001b[0;34m=\u001b[0m \u001b[0mNTRU\u001b[0m\u001b[0;34m(\u001b[0m\u001b[0;34m)\u001b[0m\u001b[0;34m\u001b[0m\u001b[0m\n\u001b[0m\u001b[1;32m      3\u001b[0m \u001b[0;31m# Uma mensagem aleatória\u001b[0m\u001b[0;34m\u001b[0m\u001b[0;34m\u001b[0m\u001b[0m\n\u001b[1;32m      4\u001b[0m \u001b[0mm\u001b[0m \u001b[0;34m=\u001b[0m \u001b[0mvec\u001b[0m\u001b[0;34m(\u001b[0m\u001b[0;34m)\u001b[0m\u001b[0;34m\u001b[0m\u001b[0m\n\u001b[1;32m      5\u001b[0m \u001b[0;32mprint\u001b[0m\u001b[0;34m(\u001b[0m\u001b[0mm\u001b[0m\u001b[0;34m)\u001b[0m\u001b[0;34m\u001b[0m\u001b[0m\n",
      "\u001b[0;32m<ipython-input-2-c6dc5853ec5d>\u001b[0m in \u001b[0;36m__init__\u001b[0;34m(self)\u001b[0m\n\u001b[1;32m      4\u001b[0m     \u001b[0;32mdef\u001b[0m \u001b[0m__init__\u001b[0m\u001b[0;34m(\u001b[0m\u001b[0mself\u001b[0m\u001b[0;34m)\u001b[0m\u001b[0;34m:\u001b[0m\u001b[0;34m\u001b[0m\u001b[0m\n\u001b[1;32m      5\u001b[0m         \u001b[0;31m# calcular um 'f' invertível\u001b[0m\u001b[0;34m\u001b[0m\u001b[0;34m\u001b[0m\u001b[0m\n\u001b[0;32m----> 6\u001b[0;31m         \u001b[0mf\u001b[0m \u001b[0;34m=\u001b[0m \u001b[0mQ\u001b[0m\u001b[0;34m(\u001b[0m\u001b[0mInteger\u001b[0m\u001b[0;34m(\u001b[0m\u001b[0;36m0\u001b[0m\u001b[0;34m)\u001b[0m\u001b[0;34m)\u001b[0m\u001b[0;34m\u001b[0m\u001b[0m\n\u001b[0m\u001b[1;32m      7\u001b[0m         \u001b[0;32mwhile\u001b[0m \u001b[0;32mnot\u001b[0m \u001b[0mf\u001b[0m\u001b[0;34m.\u001b[0m\u001b[0mis_unit\u001b[0m\u001b[0;34m(\u001b[0m\u001b[0;34m)\u001b[0m\u001b[0;34m:\u001b[0m\u001b[0;34m\u001b[0m\u001b[0m\n\u001b[1;32m      8\u001b[0m             \u001b[0mF\u001b[0m \u001b[0;34m=\u001b[0m \u001b[0mQ\u001b[0m\u001b[0;34m(\u001b[0m\u001b[0mvec\u001b[0m\u001b[0;34m(\u001b[0m\u001b[0;34m)\u001b[0m\u001b[0;34m)\u001b[0m\u001b[0;34m;\u001b[0m \u001b[0mf\u001b[0m \u001b[0;34m=\u001b[0m \u001b[0mInteger\u001b[0m\u001b[0;34m(\u001b[0m\u001b[0;36m1\u001b[0m\u001b[0;34m)\u001b[0m \u001b[0;34m+\u001b[0m \u001b[0mp\u001b[0m\u001b[0;34m*\u001b[0m\u001b[0mF\u001b[0m\u001b[0;34m\u001b[0m\u001b[0m\n",
      "\u001b[0;31mNameError\u001b[0m: global name 'Q' is not defined"
     ]
    }
   ],
   "source": [
    "# Uma instância NTRU\n",
    "K = NTRU() \n",
    "# Uma mensagem aleatória\n",
    "m = vec()\n",
    "print(m)\n",
    "# Cifrar\n",
    "e = K.encrypt(m)  \n",
    "# Decifrar e Verificar\n",
    "m == K.decrypt(e)\n"
   ]
  },
  {
   "cell_type": "markdown",
   "metadata": {
    "collapsed": true
   },
   "source": [
    "## Reticulado $L(h)$"
   ]
  },
  {
   "cell_type": "code",
   "execution_count": null,
   "metadata": {},
   "outputs": [],
   "source": [
    "# Construção da matriz geradora por blocos\n",
    "\n",
    "import sage.modules.free_module_integer as fmi\n",
    "# http://doc.sagemath.org/html/en/reference/modules/sage/modules/free_module_integer.html\n",
    "\n",
    "class Lat(NTRU):\n",
    "    def __init__(self):\n",
    "        super(Lat,self).__init__()\n",
    "        B1 = identity_matrix(ZZ,N); Bq = q*B1; B0 = matrix(ZZ,N,N,[0]*(N^2))\n",
    "        h = qrnd(self.h)\n",
    "        # rodar um vetor\n",
    "        H = [h]\n",
    "        for k in range(N-1):\n",
    "            h = [h[-1]] + h[:-1]   # shift right rotate\n",
    "            H = H + [h]\n",
    "        H = matrix(ZZ,N,N,H)\n",
    "        self.G = block_matrix([[Bq,B0],[H,B1]])      "
   ]
  },
  {
   "cell_type": "code",
   "execution_count": null,
   "metadata": {},
   "outputs": [],
   "source": [
    "Lh = fmi.IntegerLattice(Lat().G)"
   ]
  },
  {
   "cell_type": "code",
   "execution_count": null,
   "metadata": {},
   "outputs": [],
   "source": []
  },
  {
   "cell_type": "code",
   "execution_count": null,
   "metadata": {
    "collapsed": true
   },
   "outputs": [],
   "source": []
  }
 ],
 "metadata": {
  "kernelspec": {
   "display_name": "SageMath 8.6",
   "language": "",
   "name": "sagemath"
  },
  "language_info": {
   "codemirror_mode": {
    "name": "ipython",
    "version": 2
   },
   "file_extension": ".py",
   "mimetype": "text/x-python",
   "name": "python",
   "nbconvert_exporter": "python",
   "pygments_lexer": "ipython2",
   "version": "2.7.16"
  }
 },
 "nbformat": 4,
 "nbformat_minor": 2
}
