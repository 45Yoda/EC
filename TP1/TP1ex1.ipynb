{
 "cells": [
  {
   "cell_type": "code",
   "execution_count": 2,
   "metadata": {},
   "outputs": [],
   "source": [
    "def hashf(s):\n",
    "    digest = hashes.Hash(hashes.SHA256(),backend=default_backend())\n",
    "    digest.update(s)\n",
    "    return digest.finalize()"
   ]
  },
  {
   "cell_type": "code",
   "execution_count": 6,
   "metadata": {},
   "outputs": [
    {
     "ename": "SyntaxError",
     "evalue": "EOL while scanning string literal (<ipython-input-6-5804a32f8d31>, line 28)",
     "output_type": "error",
     "traceback": [
      "\u001b[0;36m  File \u001b[0;32m\"<ipython-input-6-5804a32f8d31>\"\u001b[0;36m, line \u001b[0;32m28\u001b[0m\n\u001b[0;31m    \"\"\"\"\"\"\"\"\"\"\u001b[0m\n\u001b[0m              \n^\u001b[0m\n\u001b[0;31mSyntaxError\u001b[0m\u001b[0;31m:\u001b[0m EOL while scanning string literal\n"
     ]
    }
   ],
   "source": [
    "from cryptography.hazmat.primitives.asymmetric import dh,dsa\n",
    "from cryptography.hazmat.backends import default_backend\n",
    "\n",
    "\n",
    "#Generate some parameters for Diffie-Hellman\n",
    "parameters_dh = dh.generate_parameters(generator=2,key_size=3072,\n",
    "                                      backend=default_backend())\n",
    "\n",
    "#Generate some parameters for DSA\n",
    "parameters_dsa = dsa.generate_parameters(key_size=3072, \n",
    "                                         backend=default_backend())\n",
    "\n",
    "def DHDSA(conn):\n",
    "    \"\"\"\n",
    "        DH\n",
    "   Generate Keys\n",
    "    \"\"\"\n",
    "    #generate private key DH\n",
    "    pk_DH = parameters_dh.generate_private_key()\n",
    "    #gemerate public key DH\n",
    "    pub_DH = pk_DH.public_key().public_bytes(encoding=serialization.Encoding.PEM,\n",
    "                                             format=serialization.PublicFormat.SubjectPublicKeyInfo)\n",
    "    \n",
    "    \n",
    "    \"\"\"\n",
    "        DSA\n",
    "   Generate Keys \n",
    "    \"\"\"\n",
    "    \n",
    "    #generate private key DSA\n",
    "    pk_DSA = parameters_dsa.generate_private_key()\n",
    "    #generate public key DSA\n",
    "    pub_DSA = pk_DSA.public_key().public_bytes(encoding=serialization.Encoding.PEM,\n",
    "                                               format=serialization.PublicFormat.SubjectPublicKeyInfo)\n",
    "\n",
    "    \"\"\"\n",
    "    Share Key\n",
    "    \"\"\"\n",
    "    \n",
    "    #send public key DSA\n",
    "    conn.send(pub_DSA)\n",
    "    \n",
    "    #signing \n",
    "    signature = pk_DSA.sign(pub_DH,hashes.SHA256())\n",
    "    \n",
    "    peer_pub_DSA = serialization.load_pem_public_key(conn.recv(),\n",
    "                                                     backend=default_backend())\n",
    "    \n",
    "    #send public key DH and signature\n",
    "    conn.send(pub_DH)\n",
    "    conn.send(signature)\n",
    "    \n",
    "    \n",
    "    #check if signature is ok\n",
    "    try:\n",
    "        peer_pub = conn.recv()\n",
    "        sig = conn.recv()\n",
    "        peer_pub_dsa.verify(sig,peer_pub,hashes.SHA256())\n",
    "        print(\"ok dsa\")\n",
    "    except InvalidSignature:\n",
    "        print(\"fail dsa\")\n",
    "        \n",
    "\n",
    "    #shared_key calculation\n",
    "    peer_pub_key = serialization.load_pem_public_key(peer_pub,\n",
    "                                                    backend = default_backend())\n",
    "    \n",
    "    shared_key = pk_DH.exchange(peer_pub_key)\n",
    "    \n",
    "    #confirmation\n",
    "    my_tag = hashf(bytes(shared_key))\n",
    "    conn.send(my_tag)\n",
    "    peer_tag = conn.recv()\n",
    "    if my_tag == peer_tag:\n",
    "        print('OK DH')\n",
    "        return my_tag\n",
    "    else:\n",
    "        print('FAIL DH')\n",
    "        \n",
    "    #erase data\n",
    "    pk_DH = None\n",
    "    pub_DH = None\n",
    "    peer_pub = None\n",
    "    peer_pub_key = None\n",
    "    shared_key = None\n",
    "    my_tag = None\n",
    "    peer_tag = None  "
   ]
  },
  {
   "cell_type": "code",
   "execution_count": null,
   "metadata": {},
   "outputs": [],
   "source": [
    "from multiprocessing import Pipe, Process\n",
    "\n",
    "class Connector(object):\n",
    "    def __init__(self,left,right,timeout=None):\n",
    "        \"\"\"\n",
    "        left : function that connects to the left of the Pipe\n",
    "        right : function that connects to the right of the Pipe\n",
    "        timeout : (optional) seconds before killing process\n",
    "        \"\"\"\n",
    "        #Pipe function returns a pair of connection objects \n",
    "        #connected by a Pipe (default two-way)\n",
    "        left_end, right_end = Pipe()\n",
    "        self.timeout = timeout\n",
    "    \n",
    "        # processes connected to Pipe\n",
    "        self.lproc = Process(target=left, args=(left_end,))\n",
    "        self.rproc = Process(target=right, args=(right_end,))\n",
    "        \n",
    "        #functions connected to Pipe\n",
    "        self.left = lambda : left(left_end)\n",
    "        self.right = lambda : right(right_end)\n",
    "        \n",
    "    \n",
    "    def auto(self, proc=None):\n",
    "        if proc == None:\n",
    "            self.lproc.start()\n",
    "            self.rproc.start()\n",
    "            self.lproc.join(self.timeout)\n",
    "            self.rproc.join(self.timeout)\n",
    "        else:\n",
    "            proc.start()\n",
    "            proc.join()\n",
    "    "
   ]
  },
  {
   "cell_type": "code",
   "execution_count": null,
   "metadata": {},
   "outputs": [],
   "source": [
    "def Emitter(conn):\n",
    "    conn.send('bitch')\n",
    "    conn.close()"
   ]
  },
  {
   "cell_type": "code",
   "execution_count": null,
   "metadata": {},
   "outputs": [],
   "source": [
    "def Receiver(conn):\n",
    "    i=0\n",
    "    while i!=5:\n",
    "        stra = conn.recv()\n",
    "        i = len(stra)\n",
    "        print(stra)"
   ]
  },
  {
   "cell_type": "code",
   "execution_count": null,
   "metadata": {},
   "outputs": [],
   "source": [
    "Connector(Emitter,Receiver,timeout=30).auto()"
   ]
  },
  {
   "cell_type": "code",
   "execution_count": null,
   "metadata": {},
   "outputs": [],
   "source": []
  }
 ],
 "metadata": {
  "kernelspec": {
   "display_name": "Python 3",
   "language": "python",
   "name": "python3"
  },
  "language_info": {
   "codemirror_mode": {
    "name": "ipython",
    "version": 3
   },
   "file_extension": ".py",
   "mimetype": "text/x-python",
   "name": "python",
   "nbconvert_exporter": "python",
   "pygments_lexer": "ipython3",
   "version": "3.7.2+"
  }
 },
 "nbformat": 4,
 "nbformat_minor": 2
}
