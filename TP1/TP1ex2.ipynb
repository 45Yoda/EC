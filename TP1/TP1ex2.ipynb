{
 "cells": [
  {
   "cell_type": "markdown",
   "metadata": {},
   "source": [
    "# Exercicio 2 \n",
    "\n",
    "Neste exercicio pretende se que se repita o anterior mas desta vez recorrendo a curvas elíticas. Para isso, substitui-se o acordo de chaves Diffie-Hellman pelo Elliptic-curve Diffie Hellman e usou-se Elliptic-Curve Digital Signature Algorithm em vez do Digital Signature Algorithm.\n"
   ]
  }
 ],
 "metadata": {
  "kernelspec": {
   "display_name": "Python 3",
   "language": "python",
   "name": "python3"
  },
  "language_info": {
   "codemirror_mode": {
    "name": "ipython",
    "version": 3
   },
   "file_extension": ".py",
   "mimetype": "text/x-python",
   "name": "python",
   "nbconvert_exporter": "python",
   "pygments_lexer": "ipython3",
   "version": "3.7.1"
  }
 },
 "nbformat": 4,
 "nbformat_minor": 2
}
