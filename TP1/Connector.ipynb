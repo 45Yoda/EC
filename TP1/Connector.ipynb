{
 "cells": [
  {
   "cell_type": "code",
   "execution_count": 31,
   "metadata": {},
   "outputs": [],
   "source": [
    "from multiprocessing import Pipe, Process\n",
    "\n",
    "class Connector(object):\n",
    "    def __init__(self,left,right,timeout=None):\n",
    "        \"\"\"\n",
    "        left : function that connects to the left of the Pipe\n",
    "        right : function that connects to the right of the Pipe\n",
    "        timeout : (optional) seconds before killing process\n",
    "        \"\"\"\n",
    "        #Pipe function returns a pair of connection objects \n",
    "        #connected by a Pipe (default two-way)\n",
    "        left_end, right_end = Pipe()\n",
    "        self.timeout = timeout\n",
    "    \n",
    "        # processes connected to Pipe\n",
    "        self.lproc = Process(target=left, args=(left_end,))\n",
    "        self.rproc = Process(target=right, args=(right_end,))\n",
    "        \n",
    "    \n",
    "    def auto(self, proc=None):\n",
    "        if proc == None:\n",
    "            self.lproc.start()\n",
    "            self.rproc.start()\n",
    "            self.lproc.join(self.timeout)\n",
    "            self.rproc.join(self.timeout)\n",
    "        else:\n",
    "            proc.start()\n",
    "            proc.join()\n",
    "    "
   ]
  },
  {
   "cell_type": "code",
   "execution_count": 32,
   "metadata": {},
   "outputs": [],
   "source": [
    "def Emitter(conn):\n",
    "    conn.send('bitch')\n",
    "    conn.close()"
   ]
  },
  {
   "cell_type": "code",
   "execution_count": 48,
   "metadata": {},
   "outputs": [],
   "source": [
    "def Receiver(conn):\n",
    "    i=0\n",
    "    while i!=5:\n",
    "        stra = conn.recv()\n",
    "        i = len(stra)\n",
    "        print(stra)"
   ]
  },
  {
   "cell_type": "code",
   "execution_count": 49,
   "metadata": {},
   "outputs": [
    {
     "name": "stdout",
     "output_type": "stream",
     "text": [
      "bitch\n"
     ]
    }
   ],
   "source": [
    "Connector(Emitter,Receiver,timeout=30).auto()"
   ]
  },
  {
   "cell_type": "code",
   "execution_count": null,
   "metadata": {},
   "outputs": [],
   "source": []
  }
 ],
 "metadata": {
  "kernelspec": {
   "display_name": "Python 3",
   "language": "python",
   "name": "python3"
  },
  "language_info": {
   "codemirror_mode": {
    "name": "ipython",
    "version": 3
   },
   "file_extension": ".py",
   "mimetype": "text/x-python",
   "name": "python",
   "nbconvert_exporter": "python",
   "pygments_lexer": "ipython3",
   "version": "3.7.2+"
  }
 },
 "nbformat": 4,
 "nbformat_minor": 2
}
