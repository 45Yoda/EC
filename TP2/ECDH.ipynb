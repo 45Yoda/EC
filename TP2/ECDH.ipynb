{
 "cells": [
  {
   "cell_type": "markdown",
   "metadata": {},
   "source": [
    "# Exercicio 3\n",
    "\n",
    "O objetivo deste exercício é a implementação de ECDH usando curvas elípticas binárias."
   ]
  },
  {
   "cell_type": "code",
   "execution_count": 107,
   "metadata": {},
   "outputs": [],
   "source": [
    "def setup(n):\n",
    "    p = 2**n\n",
    "    K = GF(p,name='t')\n",
    "    #enquanto a curva E/ϕ não tiver um grupo de torsão\n",
    "    #de ordem prima e tamanho >= 2^(n-1) continuamos \n",
    "    #a procurar um novo b\n",
    "    while True:\n",
    "        E,facts,big_fact,b,order = bGen(K)\n",
    "        \n",
    "        if (big_fact < 2^(n-1)):\n",
    "            break\n",
    "   \n",
    "    base_point = pointGen(E,big_fact,order)\n",
    "    \n",
    "    \n",
    "    return base_point\n",
    "        \n",
    "def pointGen(E,big_fact,order):\n",
    "    Q = E.random_element()\n",
    "    P_inf = Q*0\n",
    "    print(P_inf)\n",
    "    \n",
    "    divs = divisors(order)\n",
    "    flag = True\n",
    "    while flag:\n",
    "        \n",
    "        while (Q.order() != order):\n",
    "            Q = E.random_element() \n",
    "    \n",
    "        for div in divs:\n",
    "            if ((div*Q) == P_inf):\n",
    "                flag=False\n",
    "                base_point = (order//big_fact)*Q\n",
    "                break\n",
    "\n",
    "    return base_point\n",
    "    \n",
    "    \n",
    "def bGen(K):\n",
    "    b = K.random_element()\n",
    "    while b == 0:\n",
    "        b = K.random_element()\n",
    "    # Nota :  [a1,a2,a3,a4,a6]  define a curva  \n",
    "    # y^2 + a1*x*y + a3*y = x^3 + a2*x^2 + a4*x + a6\n",
    "    E = EllipticCurve(K,[1,1,0,0,b]);\n",
    "    order = E.order()\n",
    "    facts = list(factor(n))\n",
    "    (big_fact,_) = facts[-1]\n",
    "\n",
    "    return E,facts,big_fact,b,order\n",
    "    \n",
    "\n",
    "def keyGen(point,n):\n",
    "    priv = ZZ.random_element(2^n)\n",
    "    pub = priv*point\n",
    "    return priv,pub\n",
    "    "
   ]
  },
  {
   "cell_type": "code",
   "execution_count": 108,
   "metadata": {},
   "outputs": [
    {
     "name": "stdout",
     "output_type": "stream",
     "text": [
      "(0 : 1 : 0)\n",
      "True\n"
     ]
    }
   ],
   "source": [
    "#Inicialização\n",
    "n = 23\n",
    "point = setup(n)\n",
    "\n",
    "#Dados Alice\n",
    "priv_A,pub_A = keyGen(point,n)\n",
    "\n",
    "#Dados Bob\n",
    "priv_B,pub_B = keyGen(point,n)\n",
    "\n",
    "#Calcular shared secret\n",
    "sharedA = priv_A * pub_B\n",
    "sharedB = priv_B * pub_A\n",
    "\n",
    "#Correto?\n",
    "\n",
    "print(str(sharedA == sharedB))"
   ]
  },
  {
   "cell_type": "code",
   "execution_count": null,
   "metadata": {},
   "outputs": [],
   "source": []
  }
 ],
 "metadata": {
  "kernelspec": {
   "display_name": "Python 2",
   "language": "python",
   "name": "python2"
  },
  "language_info": {
   "codemirror_mode": {
    "name": "ipython",
    "version": 2
   },
   "file_extension": ".py",
   "mimetype": "text/x-python",
   "name": "python",
   "nbconvert_exporter": "python",
   "pygments_lexer": "ipython2",
   "version": "2.7.15+"
  }
 },
 "nbformat": 4,
 "nbformat_minor": 2
}
