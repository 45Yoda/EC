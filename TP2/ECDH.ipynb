{
 "cells": [
  {
   "cell_type": "code",
   "execution_count": null,
   "metadata": {},
   "outputs": [],
   "source": [
    "from cryptography.hazmat.backends   import default_backend\n",
    "from cryptography.hazmat.primitives import hashes, hmac\n",
    "\n",
    "default_algorithm = hashes.SHA256\n",
    "\n",
    "def Hash(s):\n",
    "    digest = hashes.Hash(default_algorithm(),backend=default_backend())\n",
    "    digest.update(s)\n",
    "    return digest.finalize()\n",
    "\n",
    "#s é a inversa multiplicativa modular de a modulo b\n",
    "#t é a inversa multiplicativa modular de b modulo a\n",
    "def mod_mult_inv(a,b):\n",
    "    [g,s,t] = xgcd(a,b)\n",
    "    return Integer(mod(s,b))\n",
    "\n"
   ]
  }
 ],
 "metadata": {
  "kernelspec": {
   "display_name": "SageMath 8.6",
   "language": "",
   "name": "sagemath"
  },
  "language_info": {
   "codemirror_mode": {
    "name": "ipython",
    "version": 2
   },
   "file_extension": ".py",
   "mimetype": "text/x-python",
   "name": "python",
   "nbconvert_exporter": "python",
   "pygments_lexer": "ipython2",
   "version": "2.7.16rc1"
  }
 },
 "nbformat": 4,
 "nbformat_minor": 2
}
