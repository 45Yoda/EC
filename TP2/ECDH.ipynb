{
 "cells": [
  {
   "cell_type": "code",
   "execution_count": 46,
   "metadata": {},
   "outputs": [],
   "source": [
    "from cryptography.hazmat.backends   import default_backend\n",
    "from cryptography.hazmat.primitives import hashes, hmac\n",
    "\n",
    "default_algorithm = hashes.SHA256\n",
    "\n",
    "def Hash(s):\n",
    "    digest = hashes.Hash(default_algorithm(),backend=default_backend())\n",
    "    digest.update(s)\n",
    "    return digest.finalize()\n",
    "\n",
    "#s é a inversa multiplicativa modular de a modulo b\n",
    "#t é a inversa multiplicativa modular de b modulo a\n",
    "def mod_mult_inv(a,b):\n",
    "    [g,s,t] = xgcd(a,b)\n",
    "    return Integer(mod(s,b))\n",
    "\n"
   ]
  },
  {
   "cell_type": "code",
   "execution_count": 50,
   "metadata": {},
   "outputs": [],
   "source": [
    "def setup(n):\n",
    "    p = 2**n\n",
    "    K = GF(p,name='t')\n",
    "    #enquanto a curva E/ϕ não tiver um grupo de torsão\n",
    "    #de ordem prima e tamanho >= 2^(n-1) continuamos \n",
    "    #a procurar um novo b\n",
    "    while True:\n",
    "        E,facts,big_fact,b = bGen(K)\n",
    "        \n",
    "        if (big_fact < 2^(n-1)):\n",
    "            break\n",
    "    \n",
    "    return 1\n",
    "        \n",
    "def pointGen(divs,E,big_fact,order):\n",
    "    point = E.random_element()\n",
    "    \n",
    "def bGen(K):\n",
    "    b = K.random_element()\n",
    "    while b == 0:\n",
    "        b = K.random_element()\n",
    "    # Nota :  [a1,a2,a3,a4,a6]  define a curva  \n",
    "    # y^2 + a1*x*y + a3*y = x^3 + a2*x^2 + a4*x + a6\n",
    "    E = EllipticCurve(K,[1,1,0,0,b]);\n",
    "    order = E.order()\n",
    "    facts = list(factor(n))\n",
    "    ult = facts[-1]\n",
    "    big_fact = ult[0]\n",
    "\n",
    "    return E,facts,big_fact,b\n",
    "    \n",
    "\n",
    "def keyGen(point):\n",
    "    return 1"
   ]
  },
  {
   "cell_type": "code",
   "execution_count": 51,
   "metadata": {},
   "outputs": [
    {
     "ename": "TypeError",
     "evalue": "'sage.rings.integer.Integer' object is not iterable",
     "output_type": "error",
     "traceback": [
      "\u001b[0;31m---------------------------------------------------------------------------\u001b[0m",
      "\u001b[0;31mTypeError\u001b[0m                                 Traceback (most recent call last)",
      "\u001b[0;32m<ipython-input-51-b3546d1d6d0d>\u001b[0m in \u001b[0;36m<module>\u001b[0;34m()\u001b[0m\n\u001b[1;32m      4\u001b[0m \u001b[0;34m\u001b[0m\u001b[0m\n\u001b[1;32m      5\u001b[0m \u001b[0;31m#Dados Alice\u001b[0m\u001b[0;34m\u001b[0m\u001b[0;34m\u001b[0m\u001b[0m\n\u001b[0;32m----> 6\u001b[0;31m \u001b[0mpriv_A\u001b[0m\u001b[0;34m,\u001b[0m\u001b[0mpub_A\u001b[0m \u001b[0;34m=\u001b[0m \u001b[0mkeyGen\u001b[0m\u001b[0;34m(\u001b[0m\u001b[0mpoint\u001b[0m\u001b[0;34m)\u001b[0m\u001b[0;34m\u001b[0m\u001b[0m\n\u001b[0m\u001b[1;32m      7\u001b[0m \u001b[0;34m\u001b[0m\u001b[0m\n\u001b[1;32m      8\u001b[0m \u001b[0;31m#Dados Bob\u001b[0m\u001b[0;34m\u001b[0m\u001b[0;34m\u001b[0m\u001b[0m\n",
      "\u001b[0;31mTypeError\u001b[0m: 'sage.rings.integer.Integer' object is not iterable"
     ]
    }
   ],
   "source": [
    "#Inicialização\n",
    "n = 5\n",
    "point = setup(n)\n",
    "\n",
    "#Dados Alice\n",
    "priv_A,pub_A = keyGen(point)\n",
    "\n",
    "#Dados Bob\n",
    "priv_B,pub_B = keyGen(point)\n",
    "\n",
    "#Calcular shared secret\n",
    "sharedA = priv_A * pub_B\n",
    "sharedB = priv_B * pub_A\n",
    "\n",
    "#Correto?\n",
    "\n",
    "print(str(sharedA == sharedB))"
   ]
  }
 ],
 "metadata": {
  "kernelspec": {
   "display_name": "SageMath 8.6",
   "language": "",
   "name": "sagemath"
  },
  "language_info": {
   "codemirror_mode": {
    "name": "ipython",
    "version": 2
   },
   "file_extension": ".py",
   "mimetype": "text/x-python",
   "name": "python",
   "nbconvert_exporter": "python",
   "pygments_lexer": "ipython2",
   "version": "2.7.16"
  }
 },
 "nbformat": 4,
 "nbformat_minor": 2
}
